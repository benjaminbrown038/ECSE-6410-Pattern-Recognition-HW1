{
  "nbformat": 4,
  "nbformat_minor": 0,
  "metadata": {
    "colab": {
      "provenance": [],
      "authorship_tag": "ABX9TyP971VsAmcXfuxYa1Hp432I",
      "include_colab_link": true
    },
    "kernelspec": {
      "name": "python3",
      "display_name": "Python 3"
    },
    "language_info": {
      "name": "python"
    }
  },
  "cells": [
    {
      "cell_type": "markdown",
      "metadata": {
        "id": "view-in-github",
        "colab_type": "text"
      },
      "source": [
        "<a href=\"https://colab.research.google.com/github/benjaminbrown038/ECSE-6410-Pattern-Recognition-HW1/blob/main/ECSE_6410_Pattern_Recognition_HW1.ipynb\" target=\"_parent\"><img src=\"https://colab.research.google.com/assets/colab-badge.svg\" alt=\"Open In Colab\"/></a>"
      ]
    },
    {
      "cell_type": "markdown",
      "source": [],
      "metadata": {
        "id": "9VYUg2V8LJQ-"
      }
    },
    {
      "cell_type": "markdown",
      "source": [],
      "metadata": {
        "id": "1NlMNq8RLJTz"
      }
    },
    {
      "cell_type": "markdown",
      "source": [],
      "metadata": {
        "id": "zXvznwTyLJXN"
      }
    },
    {
      "cell_type": "markdown",
      "source": [],
      "metadata": {
        "id": "DE8VuhgCLJZh"
      }
    },
    {
      "cell_type": "code",
      "source": [],
      "metadata": {
        "id": "is9G12_NLJlC"
      },
      "execution_count": null,
      "outputs": []
    },
    {
      "cell_type": "markdown",
      "source": [],
      "metadata": {
        "id": "OhOl8kHwLJuq"
      }
    },
    {
      "cell_type": "code",
      "source": [],
      "metadata": {
        "id": "EF3Cx0IbLJ78"
      },
      "execution_count": null,
      "outputs": []
    },
    {
      "cell_type": "markdown",
      "source": [],
      "metadata": {
        "id": "Jhxjjsp6LKCd"
      }
    },
    {
      "cell_type": "code",
      "source": [],
      "metadata": {
        "id": "QBIIt5F7LKIt"
      },
      "execution_count": null,
      "outputs": []
    },
    {
      "cell_type": "markdown",
      "source": [],
      "metadata": {
        "id": "mzpD9KmtLKPO"
      }
    },
    {
      "cell_type": "code",
      "source": [],
      "metadata": {
        "id": "gh5gsAtyLKVu"
      },
      "execution_count": null,
      "outputs": []
    },
    {
      "cell_type": "markdown",
      "source": [],
      "metadata": {
        "id": "_ZFmECEwLKcw"
      }
    },
    {
      "cell_type": "code",
      "source": [],
      "metadata": {
        "id": "l6hfCSmpLKiv"
      },
      "execution_count": null,
      "outputs": []
    },
    {
      "cell_type": "markdown",
      "source": [],
      "metadata": {
        "id": "ai1ep7meLKpy"
      }
    },
    {
      "cell_type": "code",
      "source": [],
      "metadata": {
        "id": "KPN8FkYULKvh"
      },
      "execution_count": null,
      "outputs": []
    }
  ]
}